{
 "cells": [
  {
   "cell_type": "code",
   "execution_count": 20,
   "metadata": {},
   "outputs": [],
   "source": [
    "import pandas as pd\n",
    "import jieba\n",
    "import os\n",
    "import re"
   ]
  },
  {
   "cell_type": "code",
   "execution_count": 2,
   "metadata": {},
   "outputs": [],
   "source": [
    "orgin = pd.read_csv(\"data/东莞.csv\")"
   ]
  },
  {
   "cell_type": "code",
   "execution_count": 5,
   "metadata": {},
   "outputs": [
    {
     "data": {
      "text/plain": [
       "0     东规发〔2017〕5号关于简化和明确“三旧”改造行政审批若干措施的通知?各镇人民政府（街道办...\n",
       "1     关于印发《东莞市农村（社区）集体资产交易办法（试行）》的通知东府〔2013〕146 号各镇人...\n",
       "2     关于印发《东莞市产业转型升级基地认定和管理试行办法》的通知东府办〔2013〕144 号各镇人...\n",
       "3     五、其他规定关于印发《东莞市“三旧”改造有关返还申请指引》的通知东三旧办〔2013〕42 号...\n",
       "4     关于规范已批“三旧”改造方案调整程序的通知东三旧办〔2013〕2 号各镇街“三旧”改造领导小...\n",
       "5     五、集体资产交易中共东莞市委 东莞市人民政府关于推动镇村集体经济转型升级加快发展的若干意见东...\n",
       "6     关于印发东莞市“三旧”改造审批流程图的通知东三旧办〔2012〕37 号各镇街“三旧”改造领导...\n",
       "7     关于进一步规范“三旧”改造方案编制的通知东三旧办〔2012〕11 号各镇（街）“三旧”改造领...\n",
       "8     凤岗镇农村集体资产交易办法（2017年修订）（发文机关:凤岗镇人民政府办公室  发文日期:2...\n",
       "9     关于印发《横沥镇农村（社区）集体资产交易办法》的通知《横沥镇农村（社区）集体资产交易办法》业...\n",
       "10    桥头镇农村（社区）集体资产交易规则（发文机关: 桥头镇 发文日期: 2013-06-25） ...\n",
       "11    关于印发《桥头镇镇属企业集体资产交易办法》的通知（发文机关: 桥头镇 发文日期: 2015-...\n",
       "12    洪梅镇农村集体资产交易办法（发文机关: 洪梅镇 发文日期:2016-02-29） 第一章 总...\n",
       "13    关于印发《望牛墩镇农村集体资产交易办法》的通知望府〔2015〕16号 各村（社区），有关单位...\n",
       "14     行。    关于印发厚街镇社区集体资产交易办法（试行）的通知区居委会、有关部门、单位：  ...\n",
       "15       关于印发《沙田镇农村（社区）集体资产交易办法》的通知镇港有关部门、单位，各村（社区）：...\n",
       "16    茶山镇农村集体资产交易办法（发文机关:茶山镇 发文日期:2016-03-09） 第一章 总则...\n",
       "17        关于印发《石排镇集体资产交易办法》的通知石府〔2016〕17号各村（居）委会，各有关...\n",
       "18         关于印发《大岭山镇农村集体资产交易办法（试行）》的通知各村（社区）、有关单位：们，...\n",
       "19       关于印发《大岭山镇农村（社区）集体资产交易办法的补充规定（试行）》的通知岭府办〔201...\n",
       "Name: content, dtype: object"
      ]
     },
     "execution_count": 5,
     "metadata": {},
     "output_type": "execute_result"
    }
   ],
   "source": [
    "orgin[\"content\"].head(20)"
   ]
  },
  {
   "cell_type": "code",
   "execution_count": 7,
   "metadata": {},
   "outputs": [
    {
     "data": {
      "text/plain": [
       "'\\n中文文本处理流程 \\n1) 去除特殊符号\\n\\n2) 对文本进行分词\\n\\n3) 去除停顿词\\n\\n4) 构建文本的tf-idf 以及one-hot gensim 等特征\\n\\n5) 将数据喂给模型\\n'"
      ]
     },
     "execution_count": 7,
     "metadata": {},
     "output_type": "execute_result"
    }
   ],
   "source": [
    "'''\n",
    "中文文本处理流程 \n",
    "1) 去除特殊符号\n",
    "\n",
    "2) 对文本进行分词\n",
    "\n",
    "3) 去除停顿词\n",
    "\n",
    "4) 构建文本的tf-idf 以及one-hot gensim 等特征\n",
    "\n",
    "5) 将数据喂给模型\n",
    "'''"
   ]
  },
  {
   "cell_type": "code",
   "execution_count": 16,
   "metadata": {},
   "outputs": [],
   "source": [
    "def read_stopwords():\n",
    "    stop_words=[]\n",
    "    for file in os.listdir(\"data/stopwords\"):\n",
    "        path = \"data/stopwords/\"+file\n",
    "        with open(path,\"r\",encoding='utf-8') as f:\n",
    "            for line in f.readlines():\n",
    "                stop_words.append(line.strip())\n",
    "    return stop_words"
   ]
  },
  {
   "cell_type": "code",
   "execution_count": 17,
   "metadata": {},
   "outputs": [],
   "source": [
    "stop_words=read_stopwords()"
   ]
  },
  {
   "cell_type": "code",
   "execution_count": 18,
   "metadata": {},
   "outputs": [],
   "source": [
    "stop_words=list(set(stop_words))"
   ]
  },
  {
   "cell_type": "code",
   "execution_count": 21,
   "metadata": {},
   "outputs": [],
   "source": [
    "def remove_special_quote(s):\n",
    "    str1=re.sub('[a-zA-Z0-9’!\"#$%&\\'()*+,-./:;<=>?@，。?★、…【】《》？“”‘’！[\\\\]^_`{|}~\\s]+', \"\", s)\n",
    "    str2=re.sub(u\"([^\\u4e00-\\u9fa5\\u0030-\\u0039\\u0041-\\u005a\\u0061-\\u007a])\",\"\",str1)\n",
    "    return str2"
   ]
  },
  {
   "cell_type": "code",
   "execution_count": 24,
   "metadata": {},
   "outputs": [],
   "source": [
    "orgin[\"content\"]=orgin[\"content\"].apply(lambda x: remove_special_quote(x))"
   ]
  },
  {
   "cell_type": "code",
   "execution_count": 28,
   "metadata": {},
   "outputs": [],
   "source": [
    "def seg_sentence(sentence):\n",
    "    sentence_seged = jieba.cut(sentence.strip())\n",
    "    outstr = ''\n",
    "    for word in sentence_seged:\n",
    "        if word not in stop_words:\n",
    "            if word != '\\t':\n",
    "                outstr += word\n",
    "                outstr += \" \"\n",
    "    return outstr"
   ]
  },
  {
   "cell_type": "code",
   "execution_count": 29,
   "metadata": {},
   "outputs": [],
   "source": [
    "orgin[\"content\"]=orgin[\"content\"].apply(lambda x: seg_sentence(x))"
   ]
  },
  {
   "cell_type": "code",
   "execution_count": 30,
   "metadata": {},
   "outputs": [
    {
     "data": {
      "text/plain": [
       "0    东规 发号 简化 三旧 改造 行政 审批 若干 措施 通知 各镇 人民政府 街道 办事处 松...\n",
       "1    印发 东莞市 农村 社区 集体 资产 交易 办法 试行 通知 东府 号 各镇 人民政府 街道...\n",
       "2    印发 东莞市 产业 转型 升级 基地 认定 管理 试行 办法 通知 东府 办号 各镇 人民政...\n",
       "3    五 印发 东莞市 三旧 改造 返还 申请 指引 通知 东三旧 办号 调整 三旧 改造 返还 ...\n",
       "4    规范 已批 三旧 改造 方案 调整 程序 通知 东三旧 办号 各镇 街三旧 改造 领导小组 ...\n",
       "5    五 集体 资产 交易 中共 东莞 市委 东莞市 人民政府 推动 镇村 集体经济 转型 升级 ...\n",
       "6    印发 东莞市 三旧 改造 审批 流程图 通知 东三旧 办号 各镇 街三旧 改造 领导小组 办...\n",
       "7    进一步 规范 三旧 改造 方案 编制 通知 东三旧 办号 各镇 街三旧 改造 领导小组 办公...\n",
       "8    凤岗镇 农村 集体 资产 交易 办法 年 修订 发文 机关 凤岗镇 人民政府 办公室 发文 ...\n",
       "9    印发 横沥镇 农村 社区 集体 资产 交易 办法 通知 横沥镇 农村 社区 集体 资产 交易...\n",
       "Name: content, dtype: object"
      ]
     },
     "execution_count": 30,
     "metadata": {},
     "output_type": "execute_result"
    }
   ],
   "source": [
    "orgin[\"content\"].head(10)"
   ]
  },
  {
   "cell_type": "code",
   "execution_count": 31,
   "metadata": {},
   "outputs": [
    {
     "data": {
      "text/plain": [
       "0    东规 发号 简化 三旧 改造 行政 审批 若干 措施 通知 各镇 人民政府 街道 办事处 松...\n",
       "Name: content, dtype: object"
      ]
     },
     "execution_count": 31,
     "metadata": {},
     "output_type": "execute_result"
    }
   ],
   "source": [
    "orgin[\"content\"].head(1)"
   ]
  },
  {
   "cell_type": "code",
   "execution_count": 33,
   "metadata": {},
   "outputs": [],
   "source": [
    "from sklearn.feature_extraction.text import TfidfVectorizer,CountVectorizer\n",
    "from sklearn.decomposition import LatentDirichletAllocation"
   ]
  },
  {
   "cell_type": "code",
   "execution_count": 93,
   "metadata": {},
   "outputs": [],
   "source": [
    "def get_lda_model(df,min_df=10,n_topics=10):\n",
    "    tf_vectorizer = CountVectorizer(strip_accents='unicode', # 去除raw document中的重音符号      max_features=n_features,\n",
    "    #stop_words='english', # 停用词\n",
    "    stop_words=stop_words,\n",
    "    max_df=0.5, # 阈值如果某个词的document frequence大于max_df，不当作关键词.float，词出现的次数与语料库文档数的百分比，int出现次数\n",
    "    min_df=min_df) # 如果某个词的document frequence小于min_df，则这个词不会被当作关键词\n",
    "    tf = tf_vectorizer.fit_transform(df)\n",
    "    #n_topics = 10 # 人为指定划分的主题数\n",
    "    lda = LatentDirichletAllocation(n_components=n_topics, learning_method='online', max_iter=50, learning_offset=50., random_state=0 )\n",
    "    lda.fit(tf)\n",
    "    return lda,tf_vectorizer"
   ]
  },
  {
   "cell_type": "code",
   "execution_count": 94,
   "metadata": {},
   "outputs": [
    {
     "name": "stderr",
     "output_type": "stream",
     "text": [
      "D:\\develop\\Anaconda3\\lib\\site-packages\\sklearn\\feature_extraction\\text.py:385: UserWarning: Your stop_words may be inconsistent with your preprocessing. Tokenizing the stop words generated tokens ['10', '11', '12', '13', '14', '15', '16', '17', '18', '19', '1a', '1b', '1c', '1d', '1e', '1f', '1g', '1h', '1i', '1o', '21', '210', '22', '23', '24', '25', '26', '27', '28', '2a', '2b', '2c', '2d', '2e', '2f', '2g', '2h', '2i', '2j', '31', '310', '3a', '3b', '3c', '3d', '3e', '3f', '3g', '3h', '4a', '4b', '4c', '4d', '4e', '5a', '5b', '5d', '5e', '5f', 'ain', 'aren', 'couldn', 'didn', 'doesn', 'don', 'hadn', 'hasn', 'haven', 'iii', 'isn', 'lex', 'li', 'll', 'mon', 'ng昉', 'shouldn', 've', 'wasn', 'weren', 'won', 'wouldn', 'zxfitl'] not in stop_words.\n",
      "  'stop_words.' % sorted(inconsistent))\n"
     ]
    },
    {
     "name": "stdout",
     "output_type": "stream",
     "text": [
      "\n",
      "Topic Nr.1:\n",
      "建筑 334.08 | 现状 145.72 | 居住 113.9 | 规模 111.81 | 建筑面积 111.77 | 教育 101.92 | 公顷 101.23 | 道路 100.92 | 评估 84.79 | 小于 80.31 | 行政 80.26 | 控制 80.07 | 设置 79.81 | 综合 79.42 | 配套 79.16 | 城市 79.0 | 公共设施 70.91 | 主管部门 70.84 | 商业 70.68 | 新建 63.72 | \n",
      "\n",
      "Topic Nr.2:\n",
      "交易 1.23 | 资产 1.06 | 补偿 0.64 | 农村 0.56 | 国有 0.49 | 地价 0.46 | 合同 0.44 | 征地 0.43 | 分配 0.4 | 公顷 0.4 | 镇政府 0.39 | 编制 0.38 | 容积率 0.38 | 审查 0.37 | 征收 0.36 | 土地出让 0.34 | 附件 0.34 | 计算 0.33 | 信息 0.33 | 地价款 0.33 | \n",
      "\n",
      "Topic Nr.3:\n",
      "交易 0.43 | 资产 0.37 | 单元 0.37 | 第条 0.36 | 功能 0.34 | 流程 0.34 | 街道 0.34 | 返还 0.33 | 区域 0.33 | 拆迁 0.32 | 农村 0.32 | 片区 0.31 | 经济 0.31 | 重点 0.31 | 划定 0.31 | 现状 0.31 | 加快 0.3 | 转型 0.3 | 金额 0.3 | 平方米 0.3 | \n",
      "\n",
      "Topic Nr.4:\n",
      "合作 141.46 | 收益 52.41 | 评估 43.57 | 事项 41.0 | 股东 38.53 | 公司 32.82 | 表决 32.29 | 资产 27.5 | 街道 23.15 | 审查 23.07 | 代表大会 20.99 | 投入 20.77 | 约定 19.11 | 补偿 16.86 | 房地产 16.34 | 农村 15.51 | 法人 15.04 | 确认 13.72 | 指引 12.64 | 分成 12.34 | \n",
      "\n",
      "Topic Nr.5:\n",
      "拆迁 395.34 | 房屋 324.89 | 补偿 299.37 | 调查 275.98 | 国土资源 249.79 | 编制 228.1 | 材料 223.35 | 国有 216.2 | 安置 213.6 | 征地 210.75 | 报批 206.05 | 审查 202.24 | 征收 195.66 | 流程 194.48 | 年度 186.16 | 计划 180.46 | 土地利用 178.73 | 红线 167.66 | 单元 162.57 | 出让金 161.18 | \n",
      "\n",
      "Topic Nr.6:\n",
      "容积率 249.76 | 市场 201.68 | 系数 166.1 | 地价 164.98 | 工业 161.81 | 评估价 152.61 | 修正 141.44 | 补偿 140.78 | 地价款 121.57 | 比例 121.13 | 住宅 119.38 | 分配 109.83 | 土地出让 105.25 | 计收 97.06 | 国有 82.1 | 镇政府 80.08 | 费用 72.47 | 计算 70.18 | 剩余 61.35 | 纯收益 54.15 | \n",
      "\n",
      "Topic Nr.7:\n",
      "更新 98.81 | 收购 86.68 | 单元 84.63 | 挂牌 79.59 | 街道 76.37 | 城市更新 73.07 | 补偿 68.65 | 权益 64.83 | 办事处 62.6 | 招商 59.48 | 不动产 55.5 | 经济 50.95 | 监管 48.09 | 改革 43.05 | 统筹 40.71 | 资产 39.52 | 公共设施 32.99 | 成交 32.66 | 公告 31.33 | 市场 28.18 | \n",
      "\n",
      "Topic Nr.8:\n",
      "交易 2072.34 | 资产 1362.49 | 农村 396.51 | 合同 394.54 | 交易中心 300.11 | 保证金 187.12 | 信息 186.29 | 业主 166.13 | 审查 165.93 | 竞价 152.07 | 竞得 148.35 | 资料 146.47 | 农资 145.37 | 意向 137.08 | 成交 134.9 | 发布 134.09 | 出租 131.75 | 续约 123.28 | 提交 114.28 | 股东 95.06 | \n",
      "\n",
      "Topic Nr.9:\n",
      "街道 425.12 | 补助 192.56 | 奖励 129.92 | 资金 118.2 | 财政 117.13 | 股东 99.37 | 联席会议 90.49 | 属地 83.15 | 厂房 68.78 | 合同 68.4 | 经济 67.3 | 专项资金 66.41 | 由市 62.3 | 办事处 58.9 | 万元 58.4 | 农村 57.59 | 理事会 55.45 | 超过 54.19 | 管理机构 53.08 | 资产 51.82 | \n",
      "\n",
      "Topic Nr.10:\n",
      "单元 461.89 | 转型 328.37 | 升级 311.09 | 工业 236.33 | 基地 212.04 | 功能 207.4 | 城市 206.65 | 第条 206.59 | 区域 199.2 | 容积率 196.81 | 配套 181.89 | 划定 166.18 | 控规 160.49 | 片区 158.57 | 研究 153.42 | 公共设施 151.37 | 编制 148.02 | 公顷 140.33 | 统筹 136.78 | 保障 135.5 | \n"
     ]
    }
   ],
   "source": [
    "def print_top_words(model, feature_names, n_top_words):\n",
    "   for topic_idx, topic in enumerate(model.components_):\n",
    "       print('\\nTopic Nr.%d:' % int(topic_idx + 1))\n",
    "       print(''.join([feature_names[i] + ' ' + str(round(topic[i], 2)) + ' | ' for i in topic.argsort()[:-n_top_words - 1:-1]]))\n",
    "n_top_words = 20 # 主题输出前20个关键词\n",
    "lda,tf_vectorizer= get_lda_model(orgin[\"content\"])\n",
    "tf_feature_names = tf_vectorizer.get_feature_names()\n",
    "print_top_words(lda, tf_feature_names, n_top_words)"
   ]
  },
  {
   "cell_type": "code",
   "execution_count": 95,
   "metadata": {},
   "outputs": [
    {
     "name": "stderr",
     "output_type": "stream",
     "text": [
      "D:\\develop\\Anaconda3\\lib\\site-packages\\sklearn\\feature_extraction\\text.py:385: UserWarning: Your stop_words may be inconsistent with your preprocessing. Tokenizing the stop words generated tokens ['10', '11', '12', '13', '14', '15', '16', '17', '18', '19', '1a', '1b', '1c', '1d', '1e', '1f', '1g', '1h', '1i', '1o', '21', '210', '22', '23', '24', '25', '26', '27', '28', '2a', '2b', '2c', '2d', '2e', '2f', '2g', '2h', '2i', '2j', '31', '310', '3a', '3b', '3c', '3d', '3e', '3f', '3g', '3h', '4a', '4b', '4c', '4d', '4e', '5a', '5b', '5d', '5e', '5f', 'ain', 'aren', 'couldn', 'didn', 'doesn', 'don', 'hadn', 'hasn', 'haven', 'iii', 'isn', 'lex', 'li', 'll', 'mon', 'ng昉', 'shouldn', 've', 'wasn', 'weren', 'won', 'wouldn', 'zxfitl'] not in stop_words.\n",
      "  'stop_words.' % sorted(inconsistent))\n"
     ]
    },
    {
     "name": "stdout",
     "output_type": "stream",
     "text": [
      "\n",
      "Topic Nr.1:\n",
      "东坑镇 9.46 | 征地 4.89 | 土地利用 4.87 | 收益分配 4.86 | 合同 3.97 | 本细则 3.95 | 按原 3.03 | 约定 3.03 | 定义 2.12 | 历史 2.12 | \n",
      "\n",
      "Topic Nr.2:\n",
      "交易 271.37 | 交易中心 48.97 | 合同 43.47 | 续约 33.35 | 厚街镇 30.62 | 保证金 24.17 | 农林 22.3 | 审查 21.41 | 意向 20.48 | 资料 19.57 | \n",
      "\n",
      "Topic Nr.3:\n",
      "调查 148.25 | 房屋 58.21 | 成果 47.15 | 镇街 25.08 | 审查 19.61 | 权属 14.97 | 土地利用 14.06 | 国土 14.06 | 违法 13.14 | 单元 13.12 | \n",
      "\n",
      "Topic Nr.4:\n",
      "系数 163.27 | 评估价 163.26 | 修正 130.15 | 剩余 54.35 | 服用 40.35 | 地价款 37.19 | 折扣 34.32 | 科教 31.41 | 升级 23.57 | 虎门镇 23.31 | \n",
      "\n",
      "Topic Nr.5:\n",
      "估价 73.84 | 地价款 60.05 | 机构 42.57 | 拨付 34.13 | 计提 31.28 | 资金 24.85 | 房屋 24.26 | 评估 23.24 | 专项资金 23.13 | 轨道交通 23.08 | \n"
     ]
    }
   ],
   "source": [
    "# for i in orgin[[\"content\",\"year\"]]:\n",
    "#     lda = get_lda_model(orgin[orgin[\"year\"]==i][\"content\"],5)\n",
    "#     n_top_words = 10 # 主题输出前20个关键词\n",
    "#     tf_feature_names = tf_vectorizer.get_feature_names()\n",
    "#     print_top_words(lda, tf_feature_names, n_top_words)\n",
    "lda,tf_vectorizer=get_lda_model(orgin[orgin[\"year\"]==2017][\"content\"],2,5)\n",
    "n_top_words = 10 # 主题输出前20个关键词\n",
    "tf_feature_names = tf_vectorizer.get_feature_names()\n",
    "print_top_words(lda, tf_feature_names, n_top_words)"
   ]
  },
  {
   "cell_type": "code",
   "execution_count": 96,
   "metadata": {},
   "outputs": [
    {
     "name": "stderr",
     "output_type": "stream",
     "text": [
      "D:\\develop\\Anaconda3\\lib\\site-packages\\sklearn\\feature_extraction\\text.py:385: UserWarning: Your stop_words may be inconsistent with your preprocessing. Tokenizing the stop words generated tokens ['10', '11', '12', '13', '14', '15', '16', '17', '18', '19', '1a', '1b', '1c', '1d', '1e', '1f', '1g', '1h', '1i', '1o', '21', '210', '22', '23', '24', '25', '26', '27', '28', '2a', '2b', '2c', '2d', '2e', '2f', '2g', '2h', '2i', '2j', '31', '310', '3a', '3b', '3c', '3d', '3e', '3f', '3g', '3h', '4a', '4b', '4c', '4d', '4e', '5a', '5b', '5d', '5e', '5f', 'ain', 'aren', 'couldn', 'didn', 'doesn', 'don', 'hadn', 'hasn', 'haven', 'iii', 'isn', 'lex', 'li', 'll', 'mon', 'ng昉', 'shouldn', 've', 'wasn', 'weren', 'won', 'wouldn', 'zxfitl'] not in stop_words.\n",
      "  'stop_words.' % sorted(inconsistent))\n"
     ]
    },
    {
     "name": "stdout",
     "output_type": "stream",
     "text": [
      "\n",
      "Topic Nr.1:\n",
      "孵化器 0.45 | 申报 0.32 | 模式 0.31 | 股东大会 0.31 | 创新 0.31 | 征收 0.3 | 新型产业 0.29 | 材料 0.29 | 管委会 0.29 | 国土资源 0.29 | \n",
      "\n",
      "Topic Nr.2:\n",
      "改建 35.3 | 新建 35.28 | 管委会 15.95 | 国土资源 6.73 | 住房 6.72 | 公示 5.79 | 修改 4.88 | 城乡建设 3.96 | 管理工作 3.95 | 工程 3.95 | \n",
      "\n",
      "Topic Nr.3:\n",
      "新型产业 67.42 | 更新 59.16 | 贡献 35.23 | 招商 34.33 | 创新 30.63 | 划定 29.57 | 管委会 23.2 | 市场 21.43 | 市政府 17.68 | 权利 16.83 | \n",
      "\n",
      "Topic Nr.4:\n",
      "补偿费 11.29 | 农村 8.56 | 纯收益 8.54 | 地价款 7.63 | 清溪镇 7.62 | 返还 6.71 | 村居 6.7 | 增值 6.68 | 分局 5.77 | 征收 4.88 | \n",
      "\n",
      "Topic Nr.5:\n",
      "孵化器 105.97 | 农村 42.55 | 会议 34.28 | 股东大会 32.4 | 事项 30.62 | 社区 29.67 | 资料 26.04 | 成员 22.32 | 管理机构 17.73 | 申报 17.72 | \n"
     ]
    }
   ],
   "source": [
    "lda,tf_vectorizer=get_lda_model(orgin[orgin[\"year\"]==2018][\"content\"],2,5)\n",
    "n_top_words = 10 # 主题输出前20个关键词\n",
    "tf_feature_names = tf_vectorizer.get_feature_names()\n",
    "print_top_words(lda, tf_feature_names, n_top_words)"
   ]
  },
  {
   "cell_type": "code",
   "execution_count": 106,
   "metadata": {},
   "outputs": [
    {
     "name": "stderr",
     "output_type": "stream",
     "text": [
      "D:\\develop\\Anaconda3\\lib\\site-packages\\sklearn\\feature_extraction\\text.py:385: UserWarning: Your stop_words may be inconsistent with your preprocessing. Tokenizing the stop words generated tokens ['10', '11', '12', '13', '14', '15', '16', '17', '18', '19', '1a', '1b', '1c', '1d', '1e', '1f', '1g', '1h', '1i', '1o', '21', '210', '22', '23', '24', '25', '26', '27', '28', '2a', '2b', '2c', '2d', '2e', '2f', '2g', '2h', '2i', '2j', '31', '310', '3a', '3b', '3c', '3d', '3e', '3f', '3g', '3h', '4a', '4b', '4c', '4d', '4e', '5a', '5b', '5d', '5e', '5f', 'ain', 'aren', 'couldn', 'didn', 'doesn', 'don', 'hadn', 'hasn', 'haven', 'iii', 'isn', 'lex', 'li', 'll', 'mon', 'ng昉', 'shouldn', 've', 'wasn', 'weren', 'won', 'wouldn', 'zxfitl'] not in stop_words.\n",
      "  'stop_words.' % sorted(inconsistent))\n"
     ]
    },
    {
     "name": "stdout",
     "output_type": "stream",
     "text": [
      "\n",
      "Topic Nr.1:\n",
      "流程 79.32 | 成交 56.13 | 房地产 51.18 | 详见 51.06 | 收入 41.92 | 违法 35.69 | 中华人民共和国 32.72 | 房屋 31.0 | 收取 30.97 | 全额 30.06 | \n",
      "\n",
      "Topic Nr.2:\n",
      "奖励 32.53 | 申报 20.61 | 财政 10.41 | 工改工 7.83 | 金额 6.76 | 填写 4.86 | 资金 4.09 | 镇政府 4.05 | 创新 3.94 | 盖章 3.05 | \n",
      "\n",
      "Topic Nr.3:\n",
      "交易 495.15 | 农村 86.85 | 功能 41.75 | 保证金 41.24 | 社区 38.14 | 综合 37.41 | 保护 35.26 | 重点 34.38 | 本次 34.35 | 出租 34.32 | \n",
      "\n",
      "Topic Nr.4:\n",
      "科研 47.52 | 准入 30.6 | 园区 28.4 | 资格 17.72 | 单元 17.4 | 市政府 17.36 | 监管 16.37 | 工业 15.45 | 产权 14.97 | 街道 13.06 | \n",
      "\n",
      "Topic Nr.5:\n",
      "放宽 3.04 | 监管 2.13 | 街道 2.12 | 供地 2.11 | 办事处 2.1 | 参照 1.2 | 流程 1.2 | 措施 1.2 | 实施细则 1.19 | 第十九条 1.19 | \n"
     ]
    }
   ],
   "source": [
    "lda,tf_vectorizer=get_lda_model(orgin[orgin[\"year\"]==2016][\"content\"],4,5)\n",
    "n_top_words = 10 # 主题输出前20个关键词\n",
    "tf_feature_names = tf_vectorizer.get_feature_names()\n",
    "print_top_words(lda, tf_feature_names, n_top_words)"
   ]
  },
  {
   "cell_type": "code",
   "execution_count": 105,
   "metadata": {},
   "outputs": [
    {
     "name": "stderr",
     "output_type": "stream",
     "text": [
      "D:\\develop\\Anaconda3\\lib\\site-packages\\sklearn\\feature_extraction\\text.py:385: UserWarning: Your stop_words may be inconsistent with your preprocessing. Tokenizing the stop words generated tokens ['10', '11', '12', '13', '14', '15', '16', '17', '18', '19', '1a', '1b', '1c', '1d', '1e', '1f', '1g', '1h', '1i', '1o', '21', '210', '22', '23', '24', '25', '26', '27', '28', '2a', '2b', '2c', '2d', '2e', '2f', '2g', '2h', '2i', '2j', '31', '310', '3a', '3b', '3c', '3d', '3e', '3f', '3g', '3h', '4a', '4b', '4c', '4d', '4e', '5a', '5b', '5d', '5e', '5f', 'ain', 'aren', 'couldn', 'didn', 'doesn', 'don', 'hadn', 'hasn', 'haven', 'iii', 'isn', 'lex', 'li', 'll', 'mon', 'ng昉', 'shouldn', 've', 'wasn', 'weren', 'won', 'wouldn', 'zxfitl'] not in stop_words.\n",
      "  'stop_words.' % sorted(inconsistent))\n"
     ]
    },
    {
     "name": "stdout",
     "output_type": "stream",
     "text": [
      "\n",
      "Topic Nr.1:\n",
      "事项 6.71 | 市三旧 4.88 | 审查 4.87 | 指导 3.96 | 管理局 3.95 | 文件 3.01 | 常态 2.12 | 简称 2.11 | 发展 2.1 | 部门 2.09 | \n",
      "\n",
      "Topic Nr.2:\n",
      "手续 64.56 | 街道 55.8 | 协议 47.05 | 国有 29.38 | 资料 26.9 | 政府 26.81 | 市三旧 25.06 | 提供 24.13 | 审查 22.32 | 文件 21.4 | \n",
      "\n",
      "Topic Nr.3:\n",
      "资产 36.22 | 企业 13.17 | 事项 3.02 | 市镇 2.32 | 标准 2.14 | 审查 2.13 | 资料 2.13 | 监督 2.11 | 镇政府 2.11 | 指导 2.1 | \n",
      "\n",
      "Topic Nr.4:\n",
      "手续 0.38 | 街道 0.36 | 协议 0.34 | 提供 0.32 | 办事处 0.31 | 政府 0.31 | 国有 0.31 | 文件 0.31 | 资料 0.31 | 审查 0.3 | \n",
      "\n",
      "Topic Nr.5:\n",
      "出让 86.8 | 条件 29.77 | 协议 28.01 | 国有 21.71 | 标准 16.8 | 出让金 16.16 | 符合 6.72 | 手续 5.87 | 资料 5.82 | 办事处 4.83 | \n"
     ]
    }
   ],
   "source": [
    "lda,tf_vectorizer=get_lda_model(orgin[orgin[\"year\"]==2014][\"content\"],4,5)\n",
    "n_top_words = 10 # 主题输出前20个关键词\n",
    "tf_feature_names = tf_vectorizer.get_feature_names()\n",
    "print_top_words(lda, tf_feature_names, n_top_words)"
   ]
  },
  {
   "cell_type": "code",
   "execution_count": 101,
   "metadata": {},
   "outputs": [
    {
     "data": {
      "text/plain": [
       "112    东莞市 人民政府 办公室 文件 东府 办号 东莞市 人民政府 办公室 印发 东莞市 城市更新...\n",
       "113    东莞市 人民政府 令 第号 东莞市 地下 管线 管理 办法 业经 年月日 市 人民政府 十六...\n",
       "Name: content, dtype: object"
      ]
     },
     "execution_count": 101,
     "metadata": {},
     "output_type": "execute_result"
    }
   ],
   "source": [
    "orgin[orgin[\"year\"]==2019][\"content\"]"
   ]
  },
  {
   "cell_type": "code",
   "execution_count": null,
   "metadata": {},
   "outputs": [],
   "source": []
  }
 ],
 "metadata": {
  "kernelspec": {
   "display_name": "Python 3",
   "language": "python",
   "name": "python3"
  },
  "language_info": {
   "codemirror_mode": {
    "name": "ipython",
    "version": 3
   },
   "file_extension": ".py",
   "mimetype": "text/x-python",
   "name": "python",
   "nbconvert_exporter": "python",
   "pygments_lexer": "ipython3",
   "version": "3.7.6"
  }
 },
 "nbformat": 4,
 "nbformat_minor": 4
}
